{
 "cells": [
  {
   "cell_type": "code",
   "execution_count": 169,
   "metadata": {},
   "outputs": [],
   "source": [
    "import time\n",
    "\n",
    "import pandas as pd\n",
    "import numpy as np\n",
    "import matplotlib.pyplot as plt\n",
    "import seaborn as sns\n",
    "\n",
    "from sklearn.datasets import _california_housing\n",
    "from sklearn.model_selection import train_test_split\n",
    "from sklearn.linear_model import Ridge\n",
    "from sklearn.ensemble import *\n",
    "\n",
    "#Settings\n",
    "plt.style.use('dark_background')\n",
    "#End Settings\n",
    "\n",
    "\"\"\"\n",
    "- MedInc        median income in block group\n",
    "- HouseAge      median house age in block group\n",
    "- AveRooms      average number of rooms per household\n",
    "- AveBedrms     average number of bedrooms per household\n",
    "- Population    block group population\n",
    "- AveOccup      average number of household members\n",
    "- Latitude      block group latitude\n",
    "- Longitude     block group longitude\n",
    "- MedHouseVal\n",
    "\"\"\"\n",
    "\n",
    "df = _california_housing.fetch_california_housing(as_frame=True).frame"
   ]
  },
  {
   "cell_type": "code",
   "execution_count": null,
   "metadata": {},
   "outputs": [],
   "source": [
    "#Heatmap\n",
    "data = df.drop(columns=[\"Latitude\", \"Longitude\"])\n",
    "plt.figure(figsize=(12,7))\n",
    "sns.heatmap(data.corr(),cbar=True,annot=True,cmap='Blues')"
   ]
  },
  {
   "cell_type": "code",
   "execution_count": null,
   "metadata": {},
   "outputs": [],
   "source": [
    "\n",
    "\n",
    "def FindModelScore(models, nbTries):\n",
    "    for model in models:\n",
    "\n",
    "        #Définition de la target\n",
    "        target_name = \"MedHouseVal\"\n",
    "        target = df[target_name]\n",
    "\n",
    "        #Colonnes exclues pour le test\n",
    "        colsToDrop = [target_name, \"Population\", \"AveOccup\", \"AveBedrms\", \"HouseAge\", \"AveRooms\"]\n",
    "        data = df.drop(columns=colsToDrop)\n",
    "\n",
    "        #Calcul de l'accuracy\n",
    "        results = []\n",
    "        resultsTime = []\n",
    "        for i in range(nbTries):\n",
    "            start = time.time()\n",
    "            #Split\n",
    "            data_train, data_test, target_train, target_test = train_test_split(data, target, test_size=0.25, random_state=42)\n",
    "            _ = model.fit(data_train, target_train)\n",
    "\n",
    "            #Calc accuracy\n",
    "            accuracy = model.score(data_test, target_test)\n",
    "\n",
    "            #Save result\n",
    "            results.append(accuracy)\n",
    "            resultsTime.append(time.time() - start)\n",
    "\n",
    "        model_name = model.__class__.__name__\n",
    "        avg_score = np.average(results)\n",
    "        max_score = np.max(results)\n",
    "        avg_time = np.average(resultsTime)\n",
    "\n",
    "        print(f\"-\"*40)\n",
    "        print(f\"{model_name}\")\n",
    "        print(f\"-\"*40)\n",
    "        print(f\"Average test accuracy : \" f\"{avg_score * 100:.3f}\")\n",
    "        print(f\"Max test accuracy : \" f\"{max_score * 100:.3f}\")\n",
    "        print(f\"Average test time : \" f\"{avg_time:.3f}\")\n",
    "        print(f\"-\"*40,\"\\n\")\n",
    "\n",
    "models = [\n",
    "    AdaBoostRegressor(), \n",
    "    BaggingRegressor(n_jobs=-1), \n",
    "    ExtraTreesRegressor(n_jobs=-1), \n",
    "    GradientBoostingRegressor(), \n",
    "    RandomForestRegressor(n_jobs=-1), \n",
    "    HistGradientBoostingRegressor()\n",
    "    ]\n",
    "\n",
    "FindModelScore(models,30)\n"
   ]
  }
 ],
 "metadata": {
  "kernelspec": {
   "display_name": "Python 3.11.0 64-bit",
   "language": "python",
   "name": "python3"
  },
  "language_info": {
   "codemirror_mode": {
    "name": "ipython",
    "version": 3
   },
   "file_extension": ".py",
   "mimetype": "text/x-python",
   "name": "python",
   "nbconvert_exporter": "python",
   "pygments_lexer": "ipython3",
   "version": "3.11.0"
  },
  "orig_nbformat": 4,
  "vscode": {
   "interpreter": {
    "hash": "b37f6842cfa5693682ca177646b86562e7e6680399d6aa97975ae5063d95e764"
   }
  }
 },
 "nbformat": 4,
 "nbformat_minor": 2
}
