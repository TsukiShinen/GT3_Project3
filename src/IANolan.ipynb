{
 "cells": [
  {
   "cell_type": "code",
   "execution_count": 1,
   "metadata": {
    "collapsed": true
   },
   "outputs": [],
   "source": [
    "import numpy as np\n",
    "from sklearn.datasets import _california_housing\n",
    "from sklearn import ensemble\n",
    "from sklearn.model_selection import RandomizedSearchCV, GridSearchCV\n",
    "\n",
    "data, target = _california_housing.fetch_california_housing(as_frame=True, return_X_y=True)\n",
    "data = data.drop(columns=[\"Population\", \"AveOccup\", \"MedInc\"])"
   ]
  },
  {
   "cell_type": "code",
   "execution_count": 2,
   "outputs": [],
   "source": [
    "from sklearn.model_selection import train_test_split\n",
    "\n",
    "data_train, data_test, target_train, target_test = train_test_split(data, target, test_size=0.25, random_state=42)"
   ],
   "metadata": {
    "collapsed": false
   }
  },
  {
   "cell_type": "markdown",
   "source": [
    "## Random Forest"
   ],
   "metadata": {
    "collapsed": false
   }
  },
  {
   "cell_type": "code",
   "execution_count": 4,
   "outputs": [
    {
     "name": "stderr",
     "output_type": "stream",
     "text": [
      "C:\\Users\\nguyon\\Documents\\Python\\Python311\\Lib\\site-packages\\sklearn\\model_selection\\_search.py:306: UserWarning: The total space of parameters 4 is smaller than n_iter=10. Running 4 iterations. For exhaustive searches, use GridSearchCV.\n",
      "  warnings.warn(\n"
     ]
    },
    {
     "name": "stdout",
     "output_type": "stream",
     "text": [
      "{'n_estimators': 600}\n",
      "83.84761760258371\n"
     ]
    }
   ],
   "source": [
    "model = ensemble.RandomForestRegressor(\n",
    "    random_state=42,\n",
    "    )\n",
    "\n",
    "parameters = {\n",
    "  'min_samples_leaf': [1, 2, 5, 10],\n",
    "  'min_samples_split': [2, 5, 10, 15, 100],\n",
    "  'max_features': [1.0, 'sqrt'],\n",
    "  'n_estimators': [200, 400, 600]\n",
    "}\n",
    "\n",
    "clf = RandomizedSearchCV(estimator=model, param_distributions=parameters, n_jobs=-1)\n",
    "\n",
    "_ = clf.fit(data_train, target_train)\n",
    "print(clf.best_params_)\n",
    "print(clf.score(data_test, target_test)*100)"
   ],
   "metadata": {
    "collapsed": false
   }
  },
  {
   "cell_type": "code",
   "execution_count": 6,
   "outputs": [],
   "source": [
    "rfr = ensemble.RandomForestRegressor(\n",
    "    n_estimators = 10,\n",
    "    n_jobs=-1\n",
    ")"
   ],
   "metadata": {
    "collapsed": false
   }
  },
  {
   "cell_type": "markdown",
   "source": [
    "## AdaBoost"
   ],
   "metadata": {
    "collapsed": false
   }
  },
  {
   "cell_type": "code",
   "execution_count": 7,
   "outputs": [
    {
     "name": "stdout",
     "output_type": "stream",
     "text": [
      "{'learning_rate': 1, 'n_estimators': 100}\n",
      "84.30546681633243\n"
     ]
    }
   ],
   "source": [
    "model = ensemble.AdaBoostRegressor(\n",
    "    random_state=42,\n",
    "    base_estimator=rfr,\n",
    ")\n",
    "\n",
    "parameters = {\n",
    "    'n_estimators':[10, 50, 100],\n",
    "    'learning_rate':[0.01,0.1,1]\n",
    "}\n",
    "\n",
    "clf = GridSearchCV(estimator=model, param_grid=parameters, n_jobs=-1)\n",
    "\n",
    "_ = clf.fit(data_train, target_train)\n",
    "print(clf.best_params_)\n",
    "print(clf.score(data_test, target_test)*100)"
   ],
   "metadata": {
    "collapsed": false
   }
  },
  {
   "cell_type": "code",
   "execution_count": 63,
   "outputs": [],
   "source": [
    "model = ensemble.AdaBoostRegressor(\n",
    "    random_state=42,\n",
    "    base_estimator=rfr,\n",
    "    n_estimators=100,\n",
    "    learning_rate=1\n",
    ")\n",
    "\n",
    "_ = model.fit(data_train, target_train)"
   ],
   "metadata": {
    "collapsed": false
   }
  },
  {
   "cell_type": "code",
   "execution_count": 65,
   "outputs": [
    {
     "name": "stdout",
     "output_type": "stream",
     "text": [
      "R2 : 82.28197691079582\n"
     ]
    }
   ],
   "source": [
    "from matplotlib import pyplot as plt\n",
    "from sklearn import tree\n",
    "\n",
    "print(\"R2 : \"+str(model.score(data_test, target_test)*100))"
   ],
   "metadata": {
    "collapsed": false
   }
  },
  {
   "cell_type": "code",
   "execution_count": null,
   "outputs": [],
   "source": [],
   "metadata": {
    "collapsed": false
   }
  }
 ],
 "metadata": {
  "kernelspec": {
   "display_name": "Python 3",
   "language": "python",
   "name": "python3"
  },
  "language_info": {
   "codemirror_mode": {
    "name": "ipython",
    "version": 2
   },
   "file_extension": ".py",
   "mimetype": "text/x-python",
   "name": "python",
   "nbconvert_exporter": "python",
   "pygments_lexer": "ipython2",
   "version": "2.7.6"
  }
 },
 "nbformat": 4,
 "nbformat_minor": 0
}
