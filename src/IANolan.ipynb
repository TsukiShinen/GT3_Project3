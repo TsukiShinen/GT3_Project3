{
 "cells": [
  {
   "cell_type": "code",
   "execution_count": 31,
   "metadata": {
    "collapsed": true
   },
   "outputs": [],
   "source": [
    "import numpy as np\n",
    "from sklearn.datasets import fetch_california_housing\n",
    "from sklearn import ensemble\n",
    "from sklearn.model_selection import RandomizedSearchCV\n",
    "\n",
    "california_housing = fetch_california_housing(as_frame=True).frame\n",
    "target_column = \"MedHouseVal\"\n",
    "target = california_housing[target_column]\n",
    "data = california_housing.drop(columns=[target_column, \"Population\", \"AveOccup\", \"MedInc\"])"
   ]
  },
  {
   "cell_type": "code",
   "execution_count": 32,
   "outputs": [],
   "source": [
    "from sklearn.model_selection import train_test_split\n",
    "\n",
    "data_train, data_test, target_train, target_test = train_test_split(data, target, test_size=0.25, random_state=42)"
   ],
   "metadata": {
    "collapsed": false
   }
  },
  {
   "cell_type": "markdown",
   "source": [
    "## Choose Best Params"
   ],
   "metadata": {
    "collapsed": false
   }
  },
  {
   "cell_type": "code",
   "execution_count": 105,
   "outputs": [
    {
     "data": {
      "text/plain": "{'n_estimators': 500, 'max_features': 1.0, 'max_depth': 100}"
     },
     "execution_count": 105,
     "metadata": {},
     "output_type": "execute_result"
    }
   ],
   "source": [
    "model = ensemble.RandomForestRegressor(\n",
    "    random_state=42,\n",
    "    )\n",
    "\n",
    "parameters = {\n",
    "    'n_estimators': [100, 200, 500],\n",
    "    'max_features': [1.0, 'sqrt', 'log2'],\n",
    "    'max_depth' : [1,2,3,5,10,100],\n",
    "}\n",
    "\n",
    "clf = RandomizedSearchCV(estimator=model, param_distributions=parameters, n_jobs=-1)\n",
    "\n",
    "_ = clf.fit(data_train, target_train)\n",
    "clf.best_params_"
   ],
   "metadata": {
    "collapsed": false
   }
  },
  {
   "cell_type": "markdown",
   "source": [
    "## Run"
   ],
   "metadata": {
    "collapsed": false
   }
  },
  {
   "cell_type": "code",
   "execution_count": 35,
   "outputs": [],
   "source": [
    "rfr = ensemble.RandomForestRegressor(\n",
    "    n_estimators = 100,\n",
    "    max_features=1.0,\n",
    "    max_depth=100,\n",
    "    n_jobs=-1\n",
    ")\n",
    "\n",
    "model = ensemble.AdaBoostRegressor(\n",
    "    random_state=42,\n",
    "    base_estimator=rfr,\n",
    "    n_estimators=30\n",
    ")\n",
    "\n",
    "\n",
    "_ = model.fit(data_train, target_train)"
   ],
   "metadata": {
    "collapsed": false
   }
  },
  {
   "cell_type": "code",
   "execution_count": 36,
   "outputs": [
    {
     "name": "stdout",
     "output_type": "stream",
     "text": [
      "R2 : 84.20673708310609\n"
     ]
    }
   ],
   "source": [
    "from matplotlib import pyplot as plt\n",
    "from sklearn import tree\n",
    "\n",
    "print(\"R2 : \"+str(model.score(data_test, target_test)*100))"
   ],
   "metadata": {
    "collapsed": false
   }
  }
 ],
 "metadata": {
  "kernelspec": {
   "display_name": "Python 3",
   "language": "python",
   "name": "python3"
  },
  "language_info": {
   "codemirror_mode": {
    "name": "ipython",
    "version": 2
   },
   "file_extension": ".py",
   "mimetype": "text/x-python",
   "name": "python",
   "nbconvert_exporter": "python",
   "pygments_lexer": "ipython2",
   "version": "2.7.6"
  }
 },
 "nbformat": 4,
 "nbformat_minor": 0
}
