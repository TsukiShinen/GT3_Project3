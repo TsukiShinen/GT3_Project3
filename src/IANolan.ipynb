{
 "cells": [
  {
   "cell_type": "code",
   "execution_count": 651,
   "metadata": {
    "collapsed": true
   },
   "outputs": [],
   "source": [
    "import numpy as np\n",
    "from sklearn.datasets import fetch_california_housing\n",
    "\n",
    "california_housing = fetch_california_housing(as_frame=True).frame\n",
    "california_housing = california_housing\n",
    "target_column = \"MedHouseVal\"\n",
    "target = california_housing[target_column]\n",
    "data = california_housing.drop(columns=[target_column, \"Population\", \"AveOccup\", \"AveBedrms\", \"HouseAge\", \"AveRooms\"])"
   ]
  },
  {
   "cell_type": "code",
   "execution_count": 543,
   "outputs": [],
   "source": [
    "from sklearn.model_selection import train_test_split\n",
    "\n",
    "data_train, data_test, target_train, target_test = train_test_split(data, target, test_size=0.25, random_state=42)"
   ],
   "metadata": {
    "collapsed": false
   }
  },
  {
   "cell_type": "code",
   "execution_count": 661,
   "outputs": [],
   "source": [
    "from sklearn import ensemble\n",
    "\n",
    "model = ensemble.ExtraTreesRegressor(\n",
    "    random_state=42,\n",
    "    n_jobs=-1,\n",
    "    min_samples_split=5,\n",
    "    max_features=\"sqrt\",\n",
    "    )\n",
    "_ = model.fit(data_train, target_train)"
   ],
   "metadata": {
    "collapsed": false
   }
  },
  {
   "cell_type": "code",
   "execution_count": 662,
   "outputs": [
    {
     "data": {
      "text/plain": "           importance\nMedInc       0.481876\nLongitude    0.281393\nLatitude     0.236731",
      "text/html": "<div>\n<style scoped>\n    .dataframe tbody tr th:only-of-type {\n        vertical-align: middle;\n    }\n\n    .dataframe tbody tr th {\n        vertical-align: top;\n    }\n\n    .dataframe thead th {\n        text-align: right;\n    }\n</style>\n<table border=\"1\" class=\"dataframe\">\n  <thead>\n    <tr style=\"text-align: right;\">\n      <th></th>\n      <th>importance</th>\n    </tr>\n  </thead>\n  <tbody>\n    <tr>\n      <th>MedInc</th>\n      <td>0.481876</td>\n    </tr>\n    <tr>\n      <th>Longitude</th>\n      <td>0.281393</td>\n    </tr>\n    <tr>\n      <th>Latitude</th>\n      <td>0.236731</td>\n    </tr>\n  </tbody>\n</table>\n</div>"
     },
     "execution_count": 662,
     "metadata": {},
     "output_type": "execute_result"
    }
   ],
   "source": [
    "import pandas as pd\n",
    "\n",
    "pd.DataFrame(model.feature_importances_,\n",
    "             index = data_train.columns,\n",
    "             columns = [\"importance\"]).sort_values(\n",
    "    \"importance\",\n",
    "    ascending = False)"
   ],
   "metadata": {
    "collapsed": false
   }
  },
  {
   "cell_type": "code",
   "execution_count": 663,
   "outputs": [
    {
     "name": "stdout",
     "output_type": "stream",
     "text": [
      "RMSE : 0.4845599984529276\n",
      "MAE : 0.32064062386627923\n",
      "3.5955091666666665\n",
      "R2 : 82.25550336494842\n"
     ]
    }
   ],
   "source": [
    "from sklearn.metrics import mean_squared_error\n",
    "from sklearn.metrics import mean_absolute_error\n",
    "from sklearn.metrics import max_error\n",
    "\n",
    "print(\"RMSE : \"+str(mean_squared_error(target_test, model.predict(data_test), squared=False)))\n",
    "print(\"MAE : \"+str(mean_absolute_error(target_test, model.predict(data_test))))\n",
    "print(max_error(target_test, model.predict(data_test)))\n",
    "\n",
    "print(\"R2 : \"+str(model.score(data_test, target_test)*100))"
   ],
   "metadata": {
    "collapsed": false
   }
  }
 ],
 "metadata": {
  "kernelspec": {
   "display_name": "Python 3",
   "language": "python",
   "name": "python3"
  },
  "language_info": {
   "codemirror_mode": {
    "name": "ipython",
    "version": 2
   },
   "file_extension": ".py",
   "mimetype": "text/x-python",
   "name": "python",
   "nbconvert_exporter": "python",
   "pygments_lexer": "ipython2",
   "version": "2.7.6"
  }
 },
 "nbformat": 4,
 "nbformat_minor": 0
}
