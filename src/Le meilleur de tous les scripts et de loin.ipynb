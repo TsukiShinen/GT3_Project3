{
 "cells": [
  {
   "cell_type": "code",
   "execution_count": 2,
   "metadata": {},
   "outputs": [],
   "source": [
    "# +------------+\n",
    "#  SUUUUUUUUUUU\n",
    "# +------------+\n",
    "\n",
    "#Imports\n",
    "import time\n",
    "from tqdm import tqdm\n",
    "\n",
    "import numpy as np\n",
    "import pandas as pd\n",
    "import matplotlib.pyplot as plt\n",
    "import seaborn as sns\n",
    "\n",
    "from sklearn.datasets import _california_housing\n",
    "from sklearn.model_selection import train_test_split\n",
    "from sklearn.linear_model import *\n",
    "from sklearn.ensemble import *\n",
    "\n",
    "#Settings\n",
    "plt.style.use('dark_background')\n",
    "\n",
    "#Colonnes du dataset\n",
    "\"\"\"\n",
    "- MedInc        median income in block group\n",
    "- HouseAge      median house age in block group\n",
    "- AveRooms      average number of rooms per household\n",
    "- AveBedrms     average number of bedrooms per household\n",
    "- Population    block group population\n",
    "- AveOccup      average number of household members\n",
    "- Latitude      block group latitude\n",
    "- Longitude     block group longitude\n",
    "- MedHouseVal   median house value\n",
    "\"\"\"\n",
    "\n",
    "#Creation du dataframe avec le dataset\n",
    "df = _california_housing.fetch_california_housing(as_frame=True).frame\n"
   ]
  },
  {
   "cell_type": "code",
   "execution_count": null,
   "metadata": {},
   "outputs": [],
   "source": [
    "#Heatmap\n",
    "\n",
    "data = df.drop(columns=[\"Latitude\", \"Longitude\"])\n",
    "plt.figure(figsize=(12,7))\n",
    "sns.heatmap(data.corr(),cbar=True,annot=True,cmap='Blues')"
   ]
  },
  {
   "cell_type": "code",
   "execution_count": 13,
   "metadata": {},
   "outputs": [
    {
     "name": "stdout",
     "output_type": "stream",
     "text": [
      "AdaBoostRegressor\n"
     ]
    },
    {
     "name": "stderr",
     "output_type": "stream",
     "text": [
      "100%|██████████| 30/30 [00:05<00:00,  5.04it/s]\n"
     ]
    },
    {
     "name": "stdout",
     "output_type": "stream",
     "text": [
      "BaggingRegressor\n"
     ]
    },
    {
     "name": "stderr",
     "output_type": "stream",
     "text": [
      "100%|██████████| 30/30 [00:07<00:00,  3.97it/s]\n"
     ]
    },
    {
     "name": "stdout",
     "output_type": "stream",
     "text": [
      "ExtraTreesRegressor\n"
     ]
    },
    {
     "name": "stderr",
     "output_type": "stream",
     "text": [
      "100%|██████████| 30/30 [00:09<00:00,  3.14it/s]\n"
     ]
    },
    {
     "name": "stdout",
     "output_type": "stream",
     "text": [
      "GradientBoostingRegressor\n"
     ]
    },
    {
     "name": "stderr",
     "output_type": "stream",
     "text": [
      "100%|██████████| 30/30 [00:21<00:00,  1.39it/s]\n"
     ]
    },
    {
     "name": "stdout",
     "output_type": "stream",
     "text": [
      "RandomForestRegressor\n"
     ]
    },
    {
     "name": "stderr",
     "output_type": "stream",
     "text": [
      "100%|██████████| 30/30 [00:12<00:00,  2.38it/s]\n"
     ]
    },
    {
     "name": "stdout",
     "output_type": "stream",
     "text": [
      "HistGradientBoostingRegressor\n"
     ]
    },
    {
     "name": "stderr",
     "output_type": "stream",
     "text": [
      "100%|██████████| 30/30 [00:10<00:00,  2.95it/s]\n"
     ]
    },
    {
     "name": "stdout",
     "output_type": "stream",
     "text": [
      "-------------------------------------------------------------- \n",
      "Results :\n",
      "                    ModelName  AvgScore  MaxScore  AvgExecTime\n",
      "            AdaBoostRegressor    40.507    48.096        0.198\n",
      "             BaggingRegressor    81.164    82.623        0.251\n",
      "          ExtraTreesRegressor    81.358    82.856        0.317\n",
      "    GradientBoostingRegressor    76.138    77.688        0.720\n",
      "        RandomForestRegressor    82.608    84.384        0.420\n",
      "HistGradientBoostingRegressor    81.915    83.245        0.338\n",
      "--------------------------------------------------------------\n",
      "LinearRegression\n"
     ]
    },
    {
     "name": "stderr",
     "output_type": "stream",
     "text": [
      "100%|██████████| 30/30 [00:00<00:00, 201.33it/s]\n"
     ]
    },
    {
     "name": "stdout",
     "output_type": "stream",
     "text": [
      "Ridge\n"
     ]
    },
    {
     "name": "stderr",
     "output_type": "stream",
     "text": [
      "100%|██████████| 30/30 [00:00<00:00, 309.29it/s]\n"
     ]
    },
    {
     "name": "stdout",
     "output_type": "stream",
     "text": [
      "RidgeCV\n"
     ]
    },
    {
     "name": "stderr",
     "output_type": "stream",
     "text": [
      "100%|██████████| 30/30 [00:00<00:00, 206.90it/s]\n"
     ]
    },
    {
     "name": "stdout",
     "output_type": "stream",
     "text": [
      "SGDRegressor\n"
     ]
    },
    {
     "name": "stderr",
     "output_type": "stream",
     "text": [
      "100%|██████████| 30/30 [00:08<00:00,  3.47it/s]\n"
     ]
    },
    {
     "name": "stdout",
     "output_type": "stream",
     "text": [
      "Lasso\n"
     ]
    },
    {
     "name": "stderr",
     "output_type": "stream",
     "text": [
      "100%|██████████| 30/30 [00:00<00:00, 260.86it/s]"
     ]
    },
    {
     "name": "stdout",
     "output_type": "stream",
     "text": [
      "-------------------------------------------------------------- \n",
      "Results :\n",
      "       ModelName      AvgScore      MaxScore  AvgExecTime\n",
      "LinearRegression  5.816400e+01  6.052500e+01        0.005\n",
      "           Ridge  5.851700e+01  6.038100e+01        0.003\n",
      "         RidgeCV  5.824000e+01  6.038100e+01        0.005\n",
      "    SGDRegressor -2.272657e+26 -8.896923e+25        0.288\n",
      "           Lasso  2.646900e+01  2.718300e+01        0.004\n",
      "--------------------------------------------------------------\n"
     ]
    },
    {
     "name": "stderr",
     "output_type": "stream",
     "text": [
      "\n"
     ]
    }
   ],
   "source": [
    "#Traitement des donnees\n",
    "\n",
    "#Definition de la target\n",
    "target_name = \"MedHouseVal\"\n",
    "target = df[target_name]\n",
    "\n",
    "#Colonnes exclues pour le test\n",
    "columns_to_drop = [\n",
    "    target_name, \n",
    "    \"Population\", \n",
    "    \"AveOccup\", \n",
    "    \"AveBedrms\", \n",
    "    \"HouseAge\", \n",
    "    \"AveRooms\"\n",
    "]\n",
    "data = df.drop(columns=columns_to_drop)\n",
    "\n",
    "#Modeles a tester\n",
    "models = [\n",
    "    AdaBoostRegressor(), \n",
    "    BaggingRegressor(n_jobs=-1), \n",
    "    ExtraTreesRegressor(n_jobs=-1), \n",
    "    GradientBoostingRegressor(), \n",
    "    RandomForestRegressor(n_jobs=-1), \n",
    "    HistGradientBoostingRegressor()\n",
    "]\n",
    "\n",
    "linear_models = [\n",
    "    LinearRegression(),\n",
    "    Ridge(),\n",
    "    RidgeCV(),\n",
    "    SGDRegressor(),\n",
    "    Lasso(),\n",
    "]\n",
    "\n",
    "#La fonction\n",
    "def TestModel(models, attemps):\n",
    "\n",
    "    #Initialisation de la dataframe des resultats\n",
    "    result_df = pd.DataFrame(columns=[\"ModelName\",\"AvgScore\",\"MaxScore\",\"AvgExecTime\"])\n",
    "\n",
    "    for model in models:\n",
    "\n",
    "        #Affichage\n",
    "        model_name = model.__class__.__name__\n",
    "        print(f\"{model_name}\")\n",
    "\n",
    "        #Initialisation des listes\n",
    "        score_results = []\n",
    "        time_results = []\n",
    "        \n",
    "        for i in tqdm(range(attemps)):\n",
    "\n",
    "            #Demarrage du timer\n",
    "            start = time.time()\n",
    "\n",
    "            #Split et Fit\n",
    "            data_train, data_test, target_train, target_test = train_test_split(data, target, test_size=0.25, random_state=np.random.randint(0,100))\n",
    "            model.fit(data_train, target_train)\n",
    "\n",
    "            #Calcul du score\n",
    "            score = model.score(data_test, target_test)\n",
    "\n",
    "            #Sauvegarde des resultats dans les listes\n",
    "            score_results.append(score)\n",
    "            time_results.append(time.time() - start)\n",
    "\n",
    "        #Calcul des stats\n",
    "        avg_score = round(np.average(score_results) * 100, 3)\n",
    "        max_score = round(np.max(score_results) * 100, 3)\n",
    "        avg_time = round(np.average(time_results), 3)\n",
    "\n",
    "        #Sauvegarde des resultats dans la dataframe\n",
    "        new_row = pd.DataFrame([[model_name, avg_score, max_score, avg_time]], columns=[\"ModelName\",\"AvgScore\",\"MaxScore\",\"AvgExecTime\"])\n",
    "        result_df = pd.concat([result_df, new_row])\n",
    "\n",
    "    #Affichage\n",
    "    print(f\"-\"*62, \"\\nResults :\")\n",
    "    print(result_df.to_string(index=False))\n",
    "    print(f\"-\"*62)\n",
    "\n",
    "#Call de la fonction\n",
    "TestModel(models,30)\n",
    "TestModel(linear_models,30)\n"
   ]
  }
 ],
 "metadata": {
  "kernelspec": {
   "display_name": "Python 3.11.0 64-bit",
   "language": "python",
   "name": "python3"
  },
  "language_info": {
   "codemirror_mode": {
    "name": "ipython",
    "version": 3
   },
   "file_extension": ".py",
   "mimetype": "text/x-python",
   "name": "python",
   "nbconvert_exporter": "python",
   "pygments_lexer": "ipython3",
   "version": "3.11.0"
  },
  "orig_nbformat": 4,
  "vscode": {
   "interpreter": {
    "hash": "d9cca3b5787ed073d3b77f03b758985ef55479ddb50c5b8f16161c9ada7875b4"
   }
  }
 },
 "nbformat": 4,
 "nbformat_minor": 2
}
